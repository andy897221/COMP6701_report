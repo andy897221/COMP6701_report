{
 "cells": [
  {
   "cell_type": "code",
   "execution_count": 1,
   "id": "df81e3e0-fe0a-4f35-aed9-082ced1c0647",
   "metadata": {
    "deletable": true,
    "editable": true,
    "execution": {
     "iopub.execute_input": "2024-12-14T19:12:44.489355Z",
     "iopub.status.busy": "2024-12-14T19:12:44.489094Z",
     "iopub.status.idle": "2024-12-14T19:12:44.534621Z",
     "shell.execute_reply": "2024-12-14T19:12:44.534032Z",
     "shell.execute_reply.started": "2024-12-14T19:12:44.489339Z"
    },
    "frozen": false
   },
   "outputs": [],
   "source": [
    "import balancer"
   ]
  },
  {
   "cell_type": "code",
   "execution_count": 9,
   "id": "0e920def-d1bc-43e8-897f-f55b9a89931a",
   "metadata": {
    "execution": {
     "iopub.execute_input": "2024-12-14T20:34:35.297923Z",
     "iopub.status.busy": "2024-12-14T20:34:35.297673Z",
     "iopub.status.idle": "2024-12-14T20:34:35.302098Z",
     "shell.execute_reply": "2024-12-14T20:34:35.301578Z",
     "shell.execute_reply.started": "2024-12-14T20:34:35.297911Z"
    }
   },
   "outputs": [
    {
     "name": "stdout",
     "output_type": "stream",
     "text": [
      "before tree balancing:\n",
      "Node root: [[1.0], [[3.0], [4.0]], [2.0]]\n",
      "    Node A: [1.0]\n",
      "    Node B: [[3.0], [4.0]]\n",
      "        Node B1: [3.0]\n",
      "        Node B2: [4.0]\n",
      "    Node C: [2.0]\n",
      "\n",
      "after tree balancing:\n",
      "Node root: [[8.0], [[4.0], [4.0]], [8.0]]\n",
      "    Node A: [8.0]\n",
      "    Node B: [[4.0], [4.0]]\n",
      "        Node B1: [4.0]\n",
      "        Node B2: [4.0]\n",
      "    Node C: [8.0]\n"
     ]
    }
   ],
   "source": [
    "# example 1: simple example in section 3\n",
    "nodeA = balancer.Node('A', [1])\n",
    "nodeB1 = balancer.Node('B1', [3])\n",
    "nodeB2 = balancer.Node('B2', [4])\n",
    "nodeC = balancer.Node('C', [2])\n",
    "\n",
    "B_nodes = balancer.Node('B')\n",
    "B_nodes.add_child(nodeB1)\n",
    "B_nodes.add_child(nodeB2)\n",
    "\n",
    "root_node = balancer.Node('root')\n",
    "root_node.add_child(nodeA)\n",
    "root_node.add_child(B_nodes)\n",
    "root_node.add_child(nodeC)\n",
    "\n",
    "tree = balancer.sample_balancer(root_node)\n",
    "\n",
    "print(\"before tree balancing:\")\n",
    "tree.print_tree()\n",
    "print(\"\")\n",
    "\n",
    "tree.balance_tree()\n",
    "print(\"after tree balancing:\")\n",
    "tree.print_tree()"
   ]
  },
  {
   "cell_type": "code",
   "execution_count": null,
   "id": "fe601100-4a0d-422c-a141-4c432f2169a1",
   "metadata": {},
   "outputs": [],
   "source": []
  }
 ],
 "metadata": {
  "kernelspec": {
   "display_name": "Python 3 (ipykernel)",
   "language": "python",
   "name": "python3"
  },
  "language_info": {
   "codemirror_mode": {
    "name": "ipython",
    "version": 3
   },
   "file_extension": ".py",
   "mimetype": "text/x-python",
   "name": "python",
   "nbconvert_exporter": "python",
   "pygments_lexer": "ipython3",
   "version": "3.12.2"
  }
 },
 "nbformat": 4,
 "nbformat_minor": 5
}
